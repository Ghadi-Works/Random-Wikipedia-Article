{
  "nbformat": 4,
  "nbformat_minor": 0,
  "metadata": {
    "colab": {
      "provenance": []
    },
    "kernelspec": {
      "name": "python3",
      "display_name": "Python 3"
    },
    "language_info": {
      "name": "python"
    }
  },
  "cells": [
    {
      "cell_type": "markdown",
      "source": [
        "# Python program to viwe a random Wikipedia article!"
      ],
      "metadata": {
        "id": "raIM-YrR0IXq"
      }
    },
    {
      "cell_type": "code",
      "source": [
        "!pip3 install beautifulsoup4"
      ],
      "metadata": {
        "id": "rlcneIWyhz2n"
      },
      "execution_count": null,
      "outputs": []
    },
    {
      "cell_type": "code",
      "source": [
        "!pip3 install requests"
      ],
      "metadata": {
        "id": "0QbDodAQh3x-"
      },
      "execution_count": null,
      "outputs": []
    },
    {
      "cell_type": "code",
      "source": [
        "import requests\n",
        "import webbrowser\n",
        "from bs4 import BeautifulSoup\n",
        "\n",
        "while True:\n",
        "  topic = input(\"Please enter a topic you would like to read about: \")\n",
        "  url = f\"https://en.wikipedia.org/wiki/Special:RandomInCategory/{topic}\"\n",
        "  article_page = requests.get(url)\n",
        "  soup = BeautifulSoup(article_page.text, \"html.parser\")\n",
        "  article_title = soup.find(id='firstHeading')\n",
        "  print(\"The title of the Random article is:\", article_title.string)\n",
        "\n",
        "  read = input(\"Do you want to view the article: (y/n)\")\n",
        "  if read == \"y\":\n",
        "    webbrowser.open(article_page.url)\n",
        "    print(\"The URL is:\", article_page.url)\n",
        "\n",
        "\n",
        "    leave = input(\"Would you like to read another one? (y/n)\\n\").upper()\n",
        "    if leave == \"y\":\n",
        "      pass\n",
        "    else:\n",
        "      break\n",
        "\n",
        "  elif read == \"n\":\n",
        "    print(\"Try again!!\")\n",
        "  else:\n",
        "    print(\"Invalid input\")"
      ],
      "metadata": {
        "id": "Mnh5pJaSh7YR"
      },
      "execution_count": null,
      "outputs": []
    }
  ]
}